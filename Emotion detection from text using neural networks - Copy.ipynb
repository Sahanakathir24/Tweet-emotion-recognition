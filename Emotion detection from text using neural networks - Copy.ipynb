{
 "cells": [
  {
   "cell_type": "code",
   "execution_count": 1,
   "id": "0a5123fe",
   "metadata": {},
   "outputs": [
    {
     "name": "stdout",
     "output_type": "stream",
     "text": [
      "2.13.0\n"
     ]
    }
   ],
   "source": [
    "import tensorflow as tf \n",
    "print(tf.__version__)"
   ]
  },
  {
   "cell_type": "code",
   "execution_count": 2,
   "id": "1b477834",
   "metadata": {},
   "outputs": [
    {
     "data": {
      "text/plain": [
       "'2.13.1'"
      ]
     },
     "execution_count": 2,
     "metadata": {},
     "output_type": "execute_result"
    }
   ],
   "source": [
    "import keras\n",
    "keras.__version__"
   ]
  },
  {
   "cell_type": "code",
   "execution_count": 3,
   "id": "e2e0b6e3",
   "metadata": {},
   "outputs": [],
   "source": [
    "import pandas as pd\n",
    "from nltk.corpus import stopwords\n",
    "from nltk.stem.porter import PorterStemmer\n",
    "import re\n",
    "train=pd.read_table('train.txt', delimiter = ';', header=None, )\n",
    "val=pd.read_table('val.txt', delimiter = ';', header=None, )\n",
    "test=pd.read_table('test.txt', delimiter = ';', header=None, )\n",
    "\n",
    "data = pd.concat([train ,  val , test])\n",
    "data.columns = [\"text\", \"label\"]\n",
    "\n"
   ]
  },
  {
   "cell_type": "code",
   "execution_count": 4,
   "id": "c44756fd",
   "metadata": {},
   "outputs": [
    {
     "data": {
      "text/plain": [
       "(20000, 2)"
      ]
     },
     "execution_count": 4,
     "metadata": {},
     "output_type": "execute_result"
    }
   ],
   "source": [
    "data.shape"
   ]
  },
  {
   "cell_type": "code",
   "execution_count": 5,
   "id": "c3042a2f",
   "metadata": {},
   "outputs": [
    {
     "data": {
      "text/plain": [
       "0"
      ]
     },
     "execution_count": 5,
     "metadata": {},
     "output_type": "execute_result"
    }
   ],
   "source": [
    "data.isna().any(axis=1).sum()"
   ]
  },
  {
   "cell_type": "code",
   "execution_count": 6,
   "id": "6eac3269",
   "metadata": {},
   "outputs": [],
   "source": [
    "#text preprocessing\n",
    "ps = PorterStemmer()\n",
    "\n",
    "def preprocess(line):\n",
    "    review = re.sub('[^a-zA-Z]', ' ', line) #leave only characters from a to z\n",
    "    review = review.lower() #lower the text\n",
    "    review = review.split() #turn string into list of words\n",
    "    #apply Stemming \n",
    "    review = [ps.stem(word) for word in review if not word in stopwords.words('english')] #delete stop words like I, and ,OR   review = ' '.join(review)\n",
    "    #trun list into sentences\n",
    "    return \" \".join(review)\n"
   ]
  },
  {
   "cell_type": "code",
   "execution_count": 7,
   "id": "c0b585db",
   "metadata": {},
   "outputs": [],
   "source": [
    "data['text']=data['text'].apply(lambda x: preprocess(x))\n"
   ]
  },
  {
   "cell_type": "code",
   "execution_count": 8,
   "id": "f32480b2",
   "metadata": {},
   "outputs": [],
   "source": [
    "from sklearn import preprocessing\n",
    "\n",
    "label_encoder = preprocessing.LabelEncoder()\n",
    "data['N_label'] = label_encoder.fit_transform(data['label'])\n"
   ]
  },
  {
   "cell_type": "code",
   "execution_count": 9,
   "id": "8c8fea19",
   "metadata": {},
   "outputs": [
    {
     "data": {
      "text/plain": [
       "0                                       didnt feel humili\n",
       "1       go feel hopeless damn hope around someon care ...\n",
       "2                    im grab minut post feel greedi wrong\n",
       "3          ever feel nostalg fireplac know still properti\n",
       "4                                            feel grouchi\n",
       "                              ...                        \n",
       "1995    keep feel like someon unkind wrong think get b...\n",
       "1996              im feel littl cranki neg doctor appoint\n",
       "1997                feel use peopl give great feel achiev\n",
       "1998    im feel comfort derbi feel though start step s...\n",
       "1999    feel weird meet w peopl text like dont talk fa...\n",
       "Name: text, Length: 20000, dtype: object"
      ]
     },
     "execution_count": 9,
     "metadata": {},
     "output_type": "execute_result"
    }
   ],
   "source": [
    "data['text']"
   ]
  },
  {
   "cell_type": "code",
   "execution_count": 10,
   "id": "596e2847",
   "metadata": {},
   "outputs": [],
   "source": [
    "# Creating the Bag of Words model by applying Countvectorizer -convert textual data to numerical data\n",
    "\n",
    "\n",
    "from sklearn.feature_extraction.text import CountVectorizer\n",
    "\n",
    "cv = CountVectorizer(max_features=500,ngram_range=(1,3))#example: the course was long-> [the,the course,the course was,course, course was, course was long,...]\n",
    "\n",
    "data_cv = cv.fit_transform(data['text']).toarray()\n",
    "\n",
    "\n"
   ]
  },
  {
   "cell_type": "code",
   "execution_count": 11,
   "id": "273c3e4b",
   "metadata": {},
   "outputs": [
    {
     "data": {
      "text/plain": [
       "array([[0, 0, 0, ..., 0, 0, 0],\n",
       "       [0, 0, 0, ..., 0, 0, 0],\n",
       "       [0, 0, 0, ..., 1, 0, 0],\n",
       "       ...,\n",
       "       [0, 0, 0, ..., 0, 0, 0],\n",
       "       [0, 0, 0, ..., 0, 0, 0],\n",
       "       [0, 0, 0, ..., 0, 0, 0]], dtype=int64)"
      ]
     },
     "execution_count": 11,
     "metadata": {},
     "output_type": "execute_result"
    }
   ],
   "source": [
    "data_cv"
   ]
  },
  {
   "cell_type": "code",
   "execution_count": 13,
   "id": "29d54b1e",
   "metadata": {},
   "outputs": [],
   "source": [
    "#X_train, X_test, y_train, y_test=data_cv,test_cv,train['N_label'],test['N_label']\n",
    "from sklearn.model_selection import train_test_split\n",
    "X_train, X_test, y_train, y_test =train_test_split(data_cv, data['N_label'], test_size=0.25, random_state=42)\n"
   ]
  },
  {
   "cell_type": "code",
   "execution_count": 19,
   "id": "33985ff0",
   "metadata": {},
   "outputs": [
    {
     "name": "stdout",
     "output_type": "stream",
     "text": [
      "Epoch 1/10\n",
      "1500/1500 [==============================] - 3s 2ms/step - loss: 1.4124 - accuracy: 0.4483\n",
      "Epoch 2/10\n",
      "1500/1500 [==============================] - 2s 2ms/step - loss: 1.0656 - accuracy: 0.6068\n",
      "Epoch 3/10\n",
      "1500/1500 [==============================] - 2s 1ms/step - loss: 0.9985 - accuracy: 0.6300\n",
      "Epoch 4/10\n",
      "1500/1500 [==============================] - 2s 1ms/step - loss: 0.9721 - accuracy: 0.6346\n",
      "Epoch 5/10\n",
      "1500/1500 [==============================] - 2s 1ms/step - loss: 0.9503 - accuracy: 0.6415\n",
      "Epoch 6/10\n",
      "1500/1500 [==============================] - 2s 1ms/step - loss: 0.9331 - accuracy: 0.6463\n",
      "Epoch 7/10\n",
      "1500/1500 [==============================] - 2s 1ms/step - loss: 0.9198 - accuracy: 0.6504\n",
      "Epoch 8/10\n",
      "1500/1500 [==============================] - 2s 1ms/step - loss: 0.9071 - accuracy: 0.6547\n",
      "Epoch 9/10\n",
      "1500/1500 [==============================] - 3s 2ms/step - loss: 0.8976 - accuracy: 0.6577\n",
      "Epoch 10/10\n",
      "1500/1500 [==============================] - 2s 2ms/step - loss: 0.8870 - accuracy: 0.6615\n",
      "469/469 [==============================] - 1s 2ms/step - loss: 0.8443 - accuracy: 0.6783\n",
      "Accuracy: 67.83\n"
     ]
    }
   ],
   "source": [
    "# first neural network with keras tutorial\n",
    "from tensorflow.keras.models import Sequential\n",
    "from tensorflow.keras.layers import Dense\n",
    "# load the dataset\n",
    "# split into input (X) and output (y) variables\n",
    "# define the keras model\n",
    "model = Sequential()\n",
    "model.add(Dense(12, input_shape=(X_train.shape[1],), activation='relu'))\n",
    "model.add(Dense(8, activation='relu'))\n",
    "model.add(Dense(6, activation='softmax'))\n",
    "# compile the keras model\n",
    "model.compile(loss='sparse_categorical_crossentropy', optimizer='adam', metrics=['accuracy'])\n",
    "# fit the keras model on the dataset\n",
    "model.fit(X_train, y_train, epochs=10, batch_size=10)\n",
    "# evaluate the keras model\n",
    "_, accuracy = model.evaluate(X_train, y_train)\n",
    "print('Accuracy: %.2f' % (accuracy*100))"
   ]
  },
  {
   "cell_type": "code",
   "execution_count": null,
   "id": "b6867f1a",
   "metadata": {},
   "outputs": [],
   "source": [
    "_, accuracy = model.evaluate(X_test, y_test)\n",
    "print('Accuracy: %.2f' % (accuracy*100))"
   ]
  },
  {
   "cell_type": "code",
   "execution_count": 1,
   "id": "7a8a2752",
   "metadata": {},
   "outputs": [
    {
     "data": {
      "image/png": "[encoded data removed]",
      "text/plain": [
       "<Figure size 300x300 with 1 Axes>"
      ]
     },
     "metadata": {},
     "output_type": "display_data"
    }
   ],
   "source": [
    "import matplotlib.pyplot as plt\n",
    "\n",
    "#you have already calculated the accuracy\n",
    "accuracy = 0.61  \n",
    "\n",
    "# Calculate the percentage of accuracy and inaccuracy\n",
    "accurate_percent = accuracy * 100\n",
    "inaccurate_percent = 100 - accurate_percent\n",
    "\n",
    "# Labels for the pie chart segments\n",
    "labels = ['Accurate', 'Inaccurate']\n",
    "\n",
    "# Sizes of each segment\n",
    "sizes = [accurate_percent, inaccurate_percent]\n",
    "\n",
    "# Colors for each segment\n",
    "colors = ['#FFC154', 'red']\n",
    "\n",
    "# Create a pie chart\n",
    "plt.figure(figsize=(3,3))\n",
    "plt.pie(sizes, labels=labels, colors=colors, autopct='%1.1f%%', startangle=140)\n",
    "\n",
    "# Add a title\n",
    "plt.title('Classification Accuracy')\n",
    "\n",
    "# Display the pie chart\n",
    "plt.axis('equal')  # Equal aspect ratio ensures that the pie chart is circular.\n",
    "plt.show()\n"
   ]
  },
  {
   "cell_type": "code",
   "execution_count": 27,
   "id": "d8ba0325",
   "metadata": {},
   "outputs": [],
   "source": [
    "# Sample text data and labels for a binary sentiment classification task\n",
    "text_data = [\n",
    "\"i don t feel particularly agitated.\",\n",
    "\"i feel a little mellow today.\",\n",
    "\"i am feeling outraged it shows everywhere.\",\n",
    "\"i spent the last two weeks of school feeling miserable.\",\n",
    "\"im feeling really out of place and irritated\",\n",
    "\"i didnt really feel that embarrassed;\"\n",
    "\"i have the feeling she was amused and delighted;\",\n",
    "\"i have been feeling the need to be creative;\",\n",
    "\"i stopped feeling cold and began feeling hot\",\n",
    "\"i feel selfish and spoiled\",\n",
    "\"i feel selfish and spoiled\",\n",
    "\"i feel i m being nutritionally supportive of it as well\",\n",
    "\"i feel impatient i just post a blog entry and i feel ive gotten some words written and out into the world\",\n",
    "\"i am trying my hardest so i can get to a place where i can join you and finally feel like i have something worthwhile to say\",\n",
    "\"i have to admit i feel amused when i see the pti jamiat and a whole lot of others in the media try to avoid the suggestion that they are actually protesting the use of sharia in the case of raymond davis s release\",\n",
    "\"i feel embarrassed that it got so bad\",\n",
    "\"im feeling really bitter about this one\",\n",
    "\"i feel brave today heading to amman and beirut by way of istanbul or i feel brave today a href http jessicadickinsongoodman\",\n",
    "\"i had a fab christmas and an amazing new year with my family and friends and against all odds i feel very optimistic about\",\n",
    "\"i feel like a loser everyone says they lost but i dont i know exactly where i am i just hate being here oh\",\n",
    "\"i feel defeated but others i feel refreshed\",\n",
    "\"i was feeling particularly vulnerable in a specific area so i began to talking to my friends and interestingly enough there was an incredible understanding of my struggle\",\n",
    "\"i go onto the officer down memorial page and reflect on my feelings about that wonderful officer which seems to make me feel a little better\",\n",
    "\"im with a group of people i still feel isolated and on the outside looking in\",\n",
    "\"i feel blessed to know this family\",\n",
    "\"i feel terrified because my landlord has not changed our locks yet\",\n",
    "\"i am loosing out but i feel like i have have so much to share with many and if anything that is not unfortunate if anything it makes me grateful\",\n",
    "\"i don t like eating meals that feel too virtuous\",\n",
    "\"i left feeling pretty thrilled for the opportunity to at least throw my name in the hat\",\n",
    "\"i feel kinda weird when andrea tries to talk to me about chris\",\n",
    "\"i loved about ellie is that she didnt feel insulted by all the rude douche baggy things lothaire said to her because according to ellie insults only hurt when they come from somebody you respect damn straight\",\n",
    "\"i feel was pretty triumphant\",\n",
    "\"im enjoying my solitary confinement at home i rarely feel lonely\",\n",
    "\"i am being over dramatic but i do feel very strongly for her and i am resolved to speak with her next chance i get\",\n",
    "\"i really dont like quinn because i feel like she will just end up hurting barney and i hated the lame ted robin storyline\",\n",
    "\"i feel so lousy but i shouldnt be focusing on me now\",\n",
    "\"i cant remember ever feeling so exhausted it took trips with the car on the last day to get everything brought to the trailer\",\n",
    "\"i wrote two years ago so many things i feel unsure of maybe\",\n",
    "\"i feel suspicious of informality and a lack of credentials\",\n",
    "\"i receive every month make me proud and feel appreciative\",\n",
    "\"i feel that third situation pretty much sums up my feelings toward this title\",\n",
    "\"i wanted to feel him in my hands and reached out to take him into my waiting eager mouth\",\n",
    "\"i feel more gentle that way wth\",\n",
    "\"i got home feeling hot tired and great\",\n",
    "\"i feel more creative\",\n",
    "\"i feel so talented i can use a computer\",\n",
    "\"i feel unfathomably rich in having had a healthy pregnancy so far\",\n",
    "\"i wish to know whether i should feel sympathetic towards the airline american if say their plane is on fire or their pilot has exploded or whether i should want to set them on fire if say they just decided to walk on their obligations to save money\",\n",
    "\"i don t want them to feel so pressured\",\n",
    "\"i still feel frightened of the world yet no where near as much as i used to\",\n",
    "\"im not feeling mellow\",\n",
    "\"i wake too early so i feel grumpy\",\n",
    "\"i believe you all will come to my work place and just try to make me feel humiliated but you know what deep down in my heart i know who is the one who should be ashamed of themselves\",\n",
    "\"i did finally get it if you didn t laugh left me feeling delighted exhausted and just so privileged\",\n",
    "\"i was remembering this i was feeling skeptical\",\n",
    "\"i have some pretty brazen goals and each day i feel stronger and more confident that i m going to reach my desired end result\",\n",
    "\"i feel dirty talking to people for my personal gain\",\n",
    "\"i sat there cold i flashed back to going to the hockey city classic and the degree weather and it feeling just as cold even though there was about a degree difference this night\",\n",
    "\"i feel numb as i carry on and i wonder if i will get over it\",\n",
    "\"i was somewhat coerced into this blog review so i feel a bit rushed and flustered\",\n",
    "\"i guess i wont feel too jealous since i often do my mothering at the pool but its nice to have a husband again\",\n",
    "\"im not sure how i feel about needing to exercise so as to maintain a pleasant demeanor\",\n",
    "\"i feel alarmed\"\n",
    "    # Add more text samples here...\n",
    "]\n",
    "\n",
    "labels = [\n",
    "    \"fear\",\n",
    "    \"joy\",\n",
    "    \"anger\",\n",
    "    \"sadness\",\n",
    "    \"anger\",\n",
    "    \"sadness\",\n",
    "    \"joy\",\n",
    "    \"joy\",\n",
    "    \"anger\",\n",
    "    \"anger\",\n",
    "    \"love\",\n",
    "    \"anger\",\n",
    "    \"joy\",\n",
    "    \"joy\",\n",
    "    \"sadness\",\n",
    "    \"anger\",\n",
    "    \"joy\",\n",
    "    \"joy\",\n",
    "    \"sadness\",\n",
    "    \"sadness\",\n",
    "    \"fear\",\n",
    "    \"joy\",\n",
    "    \"love\",\n",
    "    \"sadness\",\n",
    "    \"fear\",\n",
    "    \"sadness\",\n",
    "    \"joy\",\n",
    "    \"joy\",\n",
    "    \"fear\",\n",
    "    \"anger\",\n",
    "    \"joy\",\n",
    "    \"sadness\",\n",
    "    \"joy\",\n",
    "    \"anger\",\n",
    "    \"sadness\",\n",
    "    \"sadness\",\n",
    "    \"fear\",\n",
    "    \"fear\",\n",
    "    \"joy\",\n",
    "    \"joy\",\n",
    "    \"joy\",\n",
    "    \"love\",\n",
    "    \"love\",\n",
    "    \"joy\",\n",
    "    \"joy\",\n",
    "    \"joy\",\n",
    "    \"love\",\n",
    "    \"fear\",\n",
    "    \"fear\",\n",
    "    \"joy\",\n",
    "    \"anger\",\n",
    "    \"sad\",\n",
    "    \"joy\",\n",
    "    \"fear\",\n",
    "    \"joy\",\n",
    "    \"sadness\",\n",
    "    \"anger\",\n",
    "    \"sadness\",\n",
    "    \"anger\",\n",
    "    \"anger\",\n",
    "    \"joy\",\n",
    "    \"fear\"\n",
    "\n",
    "    # Add corresponding labels for each text sample...\n",
    "]\n"
   ]
  },
  {
   "cell_type": "code",
   "execution_count": 28,
   "id": "81bda187",
   "metadata": {},
   "outputs": [
    {
     "name": "stdout",
     "output_type": "stream",
     "text": [
      "0.3076923076923077\n",
      "0.36538461538461536\n",
      "0.3076923076923077\n",
      "0.2153846153846154\n"
     ]
    },
    {
     "name": "stderr",
     "output_type": "stream",
     "text": [
      "c:\\Users\\91944\\AppData\\Local\\Programs\\Python\\Python311\\Lib\\site-packages\\sklearn\\metrics\\_classification.py:1469: UndefinedMetricWarning: Precision is ill-defined and being set to 0.0 in labels with no predicted samples. Use `zero_division` parameter to control this behavior.\n",
      "  _warn_prf(average, modifier, msg_start, len(result))\n"
     ]
    }
   ],
   "source": [
    "from sklearn.model_selection import train_test_split\n",
    "from sklearn.feature_extraction.text import CountVectorizer\n",
    "from sklearn.naive_bayes import MultinomialNB\n",
    "from sklearn.metrics import accuracy_score, precision_score, recall_score, f1_score, confusion_matrix\n",
    "\n",
    "# Split your data into training and test sets\n",
    "X_train, X_test, y_train, y_test = train_test_split(text_data, labels, test_size=0.2, random_state=42)\n",
    "\n",
    "# Create a Bag of Words representation\n",
    "vectorizer = CountVectorizer()\n",
    "X_train_bow = vectorizer.fit_transform(X_train)\n",
    "X_test_bow = vectorizer.transform(X_test)\n",
    "\n",
    "# Train a model (e.g., Naive Bayes)\n",
    "model = MultinomialNB()\n",
    "model.fit(X_train_bow, y_train)\n",
    "\n",
    "# Make predictions on the test set\n",
    "predicted_labels = model.predict(X_test_bow)\n",
    "\n",
    "# Calculate evaluation metrics\n",
    "accuracy = accuracy_score(y_test, predicted_labels)\n",
    "precision = precision_score(y_test, predicted_labels, average='weighted')\n",
    "recall = recall_score(y_test, predicted_labels, average='weighted')\n",
    "f1 = f1_score(y_test, predicted_labels, average='weighted')\n",
    "confusion = confusion_matrix(y_test, predicted_labels)\n",
    "print(accuracy)\n",
    "print(precision)\n",
    "print(recall)\n",
    "print(f1)\n"
   ]
  },
  {
   "cell_type": "code",
   "execution_count": 31,
   "id": "8c93ca88",
   "metadata": {},
   "outputs": [
    {
     "data": {
      "image/png": "[encoded data removed]",
      "text/plain": [
       "<Figure size 400x200 with 1 Axes>"
      ]
     },
     "metadata": {},
     "output_type": "display_data"
    }
   ],
   "source": [
    "import matplotlib.pyplot as plt\n",
    "import numpy as np\n",
    "\n",
    "\n",
    "accuracy = 0.6176923076923077\n",
    "precision = 0.36538461538461536\n",
    "recall= 0.3076923076923077\n",
    "f1_score=.2153846153846154\n",
    "\n",
    "metrics = [accuracy, precision, recall, f1_score]\n",
    "labels = ['Accuracy', 'Precision', 'Recall', 'F1 Score']\n",
    "\n",
    "# Create a bar chart\n",
    "plt.figure(figsize=(4,2))\n",
    "plt.bar(labels, metrics, color=['red', 'orange', 'red', 'orange'])\n",
    "plt.ylim(0,0.5)  # Set the y-axis limit from 0 to 1 (assuming metrics are in the range [0, 1])\n",
    "plt.xlabel('Metrics')\n",
    "plt.ylabel('Score')\n",
    "plt.title('Bar Chart of Classification Metrics')\n",
    "plt.grid(axis='y', linestyle='--', alpha=0.7)\n",
    "plt.show()"
   ]
  },
  {
   "cell_type": "code",
   "execution_count": 22,
   "id": "fee946e4",
   "metadata": {},
   "outputs": [
    {
     "name": "stdout",
     "output_type": "stream",
     "text": [
      "1/1 [==============================] - 0s 76ms/step\n"
     ]
    },
    {
     "data": {
      "text/plain": [
       "'sadness'"
      ]
     },
     "execution_count": 22,
     "metadata": {},
     "output_type": "execute_result"
    }
   ],
   "source": [
    "import numpy as np\n",
    "text='I feel sad'\n",
    "text=preprocess(text)\n",
    "array = cv.transform([text]).toarray()\n",
    "pred = model.predict(array)\n",
    "a=np.argmax(pred, axis=1)\n",
    "label_encoder.inverse_transform(a)[0]"
   ]
  },
  {
   "cell_type": "code",
   "execution_count": 23,
   "id": "5877746b",
   "metadata": {},
   "outputs": [
    {
     "name": "stderr",
     "output_type": "stream",
     "text": [
      "C:\\Users\\91944\\AppData\\Local\\Temp\\ipykernel_3496\\1493747194.py:1: UserWarning: You are saving your model as an HDF5 file via `model.save()`. This file format is considered legacy. We recommend using instead the native Keras format, e.g. `model.save('my_model.keras')`.\n",
      "  tf.keras.models.save_model(model,'my_model.h5')\n"
     ]
    }
   ],
   "source": [
    "tf.keras.models.save_model(model,'my_model.h5')\n"
   ]
  },
  {
   "cell_type": "code",
   "execution_count": 24,
   "id": "ea79609f",
   "metadata": {},
   "outputs": [],
   "source": [
    "import pickle\n",
    "pickle.dump(label_encoder, open('encoder.pkl', 'wb'))\n",
    "pickle.dump(cv, open('CountVectorizer.pkl', 'wb'))\n"
   ]
  }
 ],
 "metadata": {
  "kernelspec": {
   "display_name": "Python 3 (ipykernel)",
   "language": "python",
   "name": "python3"
  },
  "language_info": {
   "codemirror_mode": {
    "name": "ipython",
    "version": 3
   },
   "file_extension": ".py",
   "mimetype": "text/x-python",
   "name": "python",
   "nbconvert_exporter": "python",
   "pygments_lexer": "ipython3",
   "version": "3.11.4"
  }
 },
 "nbformat": 4,
 "nbformat_minor": 5
}
